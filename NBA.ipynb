{
 "cells": [
  {
   "cell_type": "code",
   "execution_count": 184,
   "metadata": {},
   "outputs": [],
   "source": [
    "import pandas as pd\n",
    "import numpy as np\n",
    "import requests\n",
    "from bs4 import BeautifulSoup"
   ]
  },
  {
   "cell_type": "code",
   "execution_count": 185,
   "metadata": {},
   "outputs": [],
   "source": [
    "stats_page = requests.get('https://www.basketball-reference.com/leagues/NBA_2018_per_game.html')"
   ]
  },
  {
   "cell_type": "code",
   "execution_count": 186,
   "metadata": {},
   "outputs": [],
   "source": [
    "content = stats_page.content"
   ]
  },
  {
   "cell_type": "code",
   "execution_count": 187,
   "metadata": {},
   "outputs": [],
   "source": [
    "soup = BeautifulSoup(content, 'html.parser')"
   ]
  },
  {
   "cell_type": "code",
   "execution_count": 188,
   "metadata": {},
   "outputs": [],
   "source": [
    "table = soup.find(name='table', attrs={'id':'per_game_stats'})"
   ]
  },
  {
   "cell_type": "code",
   "execution_count": 189,
   "metadata": {},
   "outputs": [
    {
     "name": "stdout",
     "output_type": "stream",
     "text": [
      "  Rk         Player Pos Age   Tm   G  GS    MP   FG  FGA  ...   FT%  ORB  DRB  \\\n",
      "0  1   Álex Abrines  SG  24  OKC  75   8  15.1  1.5  3.9  ...  .848  0.3  1.2   \n",
      "1  2     Quincy Acy  PF  27  BRK  70   8  19.4  1.9  5.2  ...  .817  0.6  3.1   \n",
      "2  3   Steven Adams   C  24  OKC  76  76  32.7  5.9  9.4  ...  .559  5.1  4.0   \n",
      "3  4    Bam Adebayo   C  20  MIA  69  19  19.8  2.5  4.9  ...  .721  1.7  3.8   \n",
      "4  5  Arron Afflalo  SG  32  ORL  53   3  12.9  1.2  3.1  ...  .846  0.1  1.2   \n",
      "\n",
      "   TRB  AST  STL  BLK  TOV   PF   PTS  \n",
      "0  1.5  0.4  0.5  0.1  0.3  1.7   4.7  \n",
      "1  3.7  0.8  0.5  0.4  0.9  2.1   5.9  \n",
      "2  9.0  1.2  1.2  1.0  1.7  2.8  13.9  \n",
      "3  5.5  1.5  0.5  0.6  1.0  2.0   6.9  \n",
      "4  1.2  0.6  0.1  0.2  0.4  1.1   3.4  \n",
      "\n",
      "[5 rows x 30 columns]\n"
     ]
    }
   ],
   "source": [
    "html_str = str(table)\n",
    "df = pd.read_html(html_str)[0]\n",
    "print(df.head())"
   ]
  },
  {
   "cell_type": "code",
   "execution_count": 190,
   "metadata": {},
   "outputs": [
    {
     "data": {
      "text/html": [
       "<div>\n",
       "<style scoped>\n",
       "    .dataframe tbody tr th:only-of-type {\n",
       "        vertical-align: middle;\n",
       "    }\n",
       "\n",
       "    .dataframe tbody tr th {\n",
       "        vertical-align: top;\n",
       "    }\n",
       "\n",
       "    .dataframe thead th {\n",
       "        text-align: right;\n",
       "    }\n",
       "</style>\n",
       "<table border=\"1\" class=\"dataframe\">\n",
       "  <thead>\n",
       "    <tr style=\"text-align: right;\">\n",
       "      <th></th>\n",
       "      <th>Player</th>\n",
       "      <th>Pos</th>\n",
       "      <th>Age</th>\n",
       "      <th>Tm</th>\n",
       "      <th>G</th>\n",
       "      <th>GS</th>\n",
       "      <th>MP</th>\n",
       "      <th>FG</th>\n",
       "      <th>FGA</th>\n",
       "      <th>FG%</th>\n",
       "      <th>...</th>\n",
       "      <th>FT%</th>\n",
       "      <th>ORB</th>\n",
       "      <th>DRB</th>\n",
       "      <th>TRB</th>\n",
       "      <th>AST</th>\n",
       "      <th>STL</th>\n",
       "      <th>BLK</th>\n",
       "      <th>TOV</th>\n",
       "      <th>PF</th>\n",
       "      <th>PTS</th>\n",
       "    </tr>\n",
       "    <tr>\n",
       "      <th>Rk</th>\n",
       "      <th></th>\n",
       "      <th></th>\n",
       "      <th></th>\n",
       "      <th></th>\n",
       "      <th></th>\n",
       "      <th></th>\n",
       "      <th></th>\n",
       "      <th></th>\n",
       "      <th></th>\n",
       "      <th></th>\n",
       "      <th></th>\n",
       "      <th></th>\n",
       "      <th></th>\n",
       "      <th></th>\n",
       "      <th></th>\n",
       "      <th></th>\n",
       "      <th></th>\n",
       "      <th></th>\n",
       "      <th></th>\n",
       "      <th></th>\n",
       "      <th></th>\n",
       "    </tr>\n",
       "  </thead>\n",
       "  <tbody>\n",
       "    <tr>\n",
       "      <td>9</td>\n",
       "      <td>Kadeem Allen</td>\n",
       "      <td>PG</td>\n",
       "      <td>25</td>\n",
       "      <td>BOS</td>\n",
       "      <td>18</td>\n",
       "      <td>1</td>\n",
       "      <td>5.9</td>\n",
       "      <td>0.3</td>\n",
       "      <td>1.2</td>\n",
       "      <td>.273</td>\n",
       "      <td>...</td>\n",
       "      <td>.778</td>\n",
       "      <td>0.2</td>\n",
       "      <td>0.4</td>\n",
       "      <td>0.6</td>\n",
       "      <td>0.7</td>\n",
       "      <td>0.2</td>\n",
       "      <td>0.1</td>\n",
       "      <td>0.5</td>\n",
       "      <td>0.8</td>\n",
       "      <td>1.1</td>\n",
       "    </tr>\n",
       "    <tr>\n",
       "      <td>19</td>\n",
       "      <td>Ryan Arcidiacono</td>\n",
       "      <td>PG</td>\n",
       "      <td>23</td>\n",
       "      <td>CHI</td>\n",
       "      <td>24</td>\n",
       "      <td>0</td>\n",
       "      <td>12.7</td>\n",
       "      <td>0.7</td>\n",
       "      <td>1.7</td>\n",
       "      <td>.415</td>\n",
       "      <td>...</td>\n",
       "      <td>.833</td>\n",
       "      <td>0.0</td>\n",
       "      <td>1.0</td>\n",
       "      <td>1.0</td>\n",
       "      <td>1.5</td>\n",
       "      <td>0.5</td>\n",
       "      <td>0.0</td>\n",
       "      <td>0.5</td>\n",
       "      <td>0.8</td>\n",
       "      <td>2.0</td>\n",
       "    </tr>\n",
       "    <tr>\n",
       "      <td>24</td>\n",
       "      <td>D.J. Augustin</td>\n",
       "      <td>PG</td>\n",
       "      <td>30</td>\n",
       "      <td>ORL</td>\n",
       "      <td>75</td>\n",
       "      <td>36</td>\n",
       "      <td>23.5</td>\n",
       "      <td>3.3</td>\n",
       "      <td>7.2</td>\n",
       "      <td>.452</td>\n",
       "      <td>...</td>\n",
       "      <td>.868</td>\n",
       "      <td>0.4</td>\n",
       "      <td>1.7</td>\n",
       "      <td>2.1</td>\n",
       "      <td>3.8</td>\n",
       "      <td>0.7</td>\n",
       "      <td>0.0</td>\n",
       "      <td>1.6</td>\n",
       "      <td>1.3</td>\n",
       "      <td>10.2</td>\n",
       "    </tr>\n",
       "    <tr>\n",
       "      <td>28</td>\n",
       "      <td>Wade Baldwin</td>\n",
       "      <td>PG</td>\n",
       "      <td>21</td>\n",
       "      <td>POR</td>\n",
       "      <td>7</td>\n",
       "      <td>0</td>\n",
       "      <td>11.4</td>\n",
       "      <td>2.0</td>\n",
       "      <td>3.0</td>\n",
       "      <td>.667</td>\n",
       "      <td>...</td>\n",
       "      <td>.600</td>\n",
       "      <td>0.1</td>\n",
       "      <td>1.0</td>\n",
       "      <td>1.1</td>\n",
       "      <td>0.7</td>\n",
       "      <td>0.3</td>\n",
       "      <td>0.1</td>\n",
       "      <td>0.6</td>\n",
       "      <td>1.7</td>\n",
       "      <td>5.4</td>\n",
       "    </tr>\n",
       "    <tr>\n",
       "      <td>29</td>\n",
       "      <td>Lonzo Ball</td>\n",
       "      <td>PG</td>\n",
       "      <td>20</td>\n",
       "      <td>LAL</td>\n",
       "      <td>52</td>\n",
       "      <td>50</td>\n",
       "      <td>34.2</td>\n",
       "      <td>3.9</td>\n",
       "      <td>10.8</td>\n",
       "      <td>.360</td>\n",
       "      <td>...</td>\n",
       "      <td>.451</td>\n",
       "      <td>1.3</td>\n",
       "      <td>5.6</td>\n",
       "      <td>6.9</td>\n",
       "      <td>7.2</td>\n",
       "      <td>1.7</td>\n",
       "      <td>0.8</td>\n",
       "      <td>2.6</td>\n",
       "      <td>2.3</td>\n",
       "      <td>10.2</td>\n",
       "    </tr>\n",
       "  </tbody>\n",
       "</table>\n",
       "<p>5 rows × 29 columns</p>\n",
       "</div>"
      ],
      "text/plain": [
       "              Player Pos Age   Tm   G  GS    MP   FG   FGA   FG%  ...   FT%  \\\n",
       "Rk                                                                ...         \n",
       "9       Kadeem Allen  PG  25  BOS  18   1   5.9  0.3   1.2  .273  ...  .778   \n",
       "19  Ryan Arcidiacono  PG  23  CHI  24   0  12.7  0.7   1.7  .415  ...  .833   \n",
       "24     D.J. Augustin  PG  30  ORL  75  36  23.5  3.3   7.2  .452  ...  .868   \n",
       "28      Wade Baldwin  PG  21  POR   7   0  11.4  2.0   3.0  .667  ...  .600   \n",
       "29        Lonzo Ball  PG  20  LAL  52  50  34.2  3.9  10.8  .360  ...  .451   \n",
       "\n",
       "    ORB  DRB  TRB  AST  STL  BLK  TOV   PF   PTS  \n",
       "Rk                                                \n",
       "9   0.2  0.4  0.6  0.7  0.2  0.1  0.5  0.8   1.1  \n",
       "19  0.0  1.0  1.0  1.5  0.5  0.0  0.5  0.8   2.0  \n",
       "24  0.4  1.7  2.1  3.8  0.7  0.0  1.6  1.3  10.2  \n",
       "28  0.1  1.0  1.1  0.7  0.3  0.1  0.6  1.7   5.4  \n",
       "29  1.3  5.6  6.9  7.2  1.7  0.8  2.6  2.3  10.2  \n",
       "\n",
       "[5 rows x 29 columns]"
      ]
     },
     "execution_count": 190,
     "metadata": {},
     "output_type": "execute_result"
    }
   ],
   "source": [
    "gb = df.groupby(\"Pos\")\n",
    "gb.get_group(\"PG\").set_index(\"Rk\").head()"
   ]
  },
  {
   "cell_type": "code",
   "execution_count": 191,
   "metadata": {},
   "outputs": [
    {
     "name": "stdout",
     "output_type": "stream",
     "text": [
      "                       G        MP        FG        3P        2P   eFG%  \\\n",
      "Player                                                                    \n",
      "Damian Lillard  0.890244  1.000000  0.894737  0.738095  0.650602  0.519   \n",
      "Kemba Walker    0.975610  0.934426  0.778947  0.690476  0.542169  0.516   \n",
      "Stephen Curry   0.621951  0.874317  0.884211  1.000000  0.506024  0.618   \n",
      "\n",
      "                      FT       AST   STL       TOV    PF       PTS      Rate  \n",
      "Player                                                                        \n",
      "Damian Lillard  0.971429  0.640777  0.55  0.583333  0.40  1.000000  0.454374  \n",
      "Kemba Walker    0.642857  0.543689  0.55  0.458333  0.30  0.821561  0.289626  \n",
      "Stephen Curry   0.785714  0.592233  0.80  0.625000  0.55  0.981413  0.269746  \n"
     ]
    }
   ],
   "source": [
    "PG= df.copy()[df['Pos']==\"PG\"]\n",
    "PG.drop(columns=[\"Rk\",\"Pos\", \"Age\", \"Tm\", \"GS\", \"FG%\",\"FGA\", \"3P%\", \"3PA\", \"2P%\", \"2PA\", \"FT%\", \"FTA\", \"ORB\", \"DRB\", \"TRB\", \"BLK\"], axis=1, inplace=True)\n",
    "PG.set_index(\"Player\", inplace=True)\n",
    "PG.dropna(inplace=True)\n",
    "PG = PG.astype(float)\n",
    "PGMax = PG.max()\n",
    "PG_N = PG / PGMax\n",
    "PG_N['Rate'] = PG_N['MP']*PG_N['G']*PG_N['FG']*PG_N['3P']*PG_N['2P']*PG_N['eFG%']*PG_N['FT']*PG_N['STL']/(PG_N['TOV']+0.0001)/(PG_N['PF']+0.0001)*PG_N['PTS']\n",
    "#print(C_N['Rate'].head(5))\n",
    "print(PG_N.sort_values(by=['Rate'], ascending=False).head(3))"
   ]
  },
  {
   "cell_type": "code",
   "execution_count": 192,
   "metadata": {},
   "outputs": [
    {
     "name": "stdout",
     "output_type": "stream",
     "text": [
      "                       G        MP        FG        3P        2P      eFG%  \\\n",
      "Player                                                                       \n",
      "James Harden    0.878049  0.964578  1.000000  1.000000  0.771429  0.360667   \n",
      "Jimmy Butler    0.719512  1.000000  0.822222  0.324324  0.885714  0.341333   \n",
      "Victor Oladipo  0.914634  0.926431  0.944444  0.567568  0.914286  0.358000   \n",
      "\n",
      "                      FT       AST       STL       TOV        PF       PTS  \\\n",
      "Player                                                                       \n",
      "James Harden    1.000000  1.000000  0.750000  1.000000  0.638889  1.000000   \n",
      "Jimmy Butler    0.712644  0.556818  0.833333  0.409091  0.361111  0.730263   \n",
      "Victor Oladipo  0.448276  0.488636  1.000000  0.659091  0.638889  0.759868   \n",
      "\n",
      "                    Rate  \n",
      "Player                    \n",
      "James Harden    0.276555  \n",
      "Jimmy Butler    0.170201  \n",
      "Victor Oladipo  0.120226  \n"
     ]
    }
   ],
   "source": [
    "SG= df.copy()[df['Pos']==\"SG\"]\n",
    "SG.drop(columns=[\"Rk\",\"Pos\", \"Age\", \"Tm\", \"GS\", \"FG%\", \"FGA\", \"3P%\", \"3PA\", \"2P%\", \"2PA\", \"FT%\", \"FTA\", \"ORB\", \"DRB\", \"TRB\", \"BLK\"], axis=1, inplace=True)\n",
    "SG.set_index(\"Player\", inplace=True)\n",
    "SG.dropna(inplace=True)\n",
    "SG = SG.astype(float)\n",
    "SGMax = SG.max()\n",
    "SG_N = SG / SGMax\n",
    "SG_N['Rate'] = SG_N['MP']*SG_N['G']*SG_N['FG']*SG_N['3P']*SG_N['2P']*SG_N['eFG%']*SG_N['FT']*SG_N['STL']/(SG_N['TOV']+0.0001)/(SG_N['PF']+0.0001)*SG_N['PTS']\n",
    "#print(C_N['Rate'].head(5))\n",
    "print(SG_N.sort_values(by=['Rate'], ascending=False).head(3))"
   ]
  },
  {
   "cell_type": "code",
   "execution_count": 193,
   "metadata": {},
   "outputs": [
    {
     "name": "stdout",
     "output_type": "stream",
     "text": [
      "                     G        MP        FG        3P        2P      eFG%  \\\n",
      "Player                                                                     \n",
      "Kevin Durant  0.829268  0.934426  1.000000  0.806452  0.858974  0.390667   \n",
      "Paul George   0.963415  1.000000  0.784946  1.000000  0.538462  0.347333   \n",
      "Otto Porter   0.939024  0.863388  0.623656  0.580645  0.512821  0.387333   \n",
      "\n",
      "                    FT   ORB       DRB       TRB       AST   STL       BLK  \\\n",
      "Player                                                                       \n",
      "Kevin Durant  1.000000  0.25  1.000000  1.000000  1.000000  0.35  1.000000   \n",
      "Paul George   0.811321  0.45  0.734375  0.838235  0.611111  1.00  0.277778   \n",
      "Otto Porter   0.264151  0.65  0.796875  0.941176  0.370370  0.75  0.277778   \n",
      "\n",
      "                   TOV        PF       PTS      Rate  \n",
      "Player                                                \n",
      "Kevin Durant  1.000000  0.606061  1.000000  0.030268  \n",
      "Paul George   0.900000  0.878788  0.829545  0.009259  \n",
      "Otto Porter   0.333333  0.606061  0.556818  0.004310  \n"
     ]
    }
   ],
   "source": [
    "SF= df.copy()[df['Pos']==\"SF\"]\n",
    "SF.drop(columns=[\"Rk\",\"Pos\", \"Age\",\"Tm\", \"GS\", \"FG%\", \"FGA\", \"3P%\", \"3PA\", \"2P%\", \"2PA\", \"FT%\", \"FTA\"], axis=1, inplace=True)\n",
    "SF.set_index(\"Player\", inplace=True)\n",
    "SF.dropna(inplace=True)\n",
    "SF = SF.astype(float)\n",
    "SFMax = SF.max()\n",
    "SF_N = SF / SFMax\n",
    "SF_N['Rate'] = SF_N['MP']*SF_N['G']*SF_N['FG']*SF_N['3P']*SF_N['2P']*SF_N['eFG%']*SF_N['FT']*SF_N['ORB']*SF_N['DRB']*SF_N['TRB']*SF_N['STL']*SF_N['BLK']/(SF_N['TOV']+0.0001)/(SF_N['PF']+0.0001)*SF_N['PTS']\n",
    "#print(C_N['Rate'].head(5))\n",
    "print(SF_N.sort_values(by=['Rate'], ascending=False).head(3))"
   ]
  },
  {
   "cell_type": "code",
   "execution_count": 194,
   "metadata": {},
   "outputs": [
    {
     "name": "stdout",
     "output_type": "stream",
     "text": [
      "                              G       MP        FG        3P        2P  \\\n",
      "Player                                                                   \n",
      "Anthony Davis          0.914634  0.98645  0.990476  0.250000  1.000000   \n",
      "Giannis Antetokounmpo  0.914634  0.99458  0.942857  0.214286  0.958763   \n",
      "LeBron James           1.000000  1.00000  1.000000  0.642857  0.886598   \n",
      "\n",
      "                          eFG%        FT       ORB       DRB       TRB  \\\n",
      "Player                                                                   \n",
      "Anthony Davis          0.69000  1.000000  0.925926  1.000000  1.000000   \n",
      "Giannis Antetokounmpo  0.68125  0.984848  0.777778  0.930233  0.900901   \n",
      "LeBron James           0.73750  0.712121  0.444444  0.872093  0.774775   \n",
      "\n",
      "                            STL       BLK       TOV        PF       PTS  \\\n",
      "Player                                                                    \n",
      "Anthony Davis          0.882353  1.000000  0.523810  0.677419  1.000000   \n",
      "Giannis Antetokounmpo  0.882353  0.538462  0.714286  1.000000  0.957295   \n",
      "LeBron James           0.823529  0.346154  1.000000  0.548387  0.978648   \n",
      "\n",
      "                           Rate  \n",
      "Player                           \n",
      "Anthony Davis          0.354810  \n",
      "Giannis Antetokounmpo  0.049057  \n",
      "LeBron James           0.045717  \n"
     ]
    }
   ],
   "source": [
    "PF= df.copy()[df['Pos']==\"PF\"]\n",
    "PF.drop(columns=[\"Rk\",\"Pos\", \"Age\", \"Tm\",\"GS\", \"FG%\", \"FGA\", \"3P%\", \"3PA\", \"2P%\", \"2PA\", \"FT%\", \"FTA\",\"AST\"], axis=1, inplace=True)\n",
    "PF.set_index(\"Player\", inplace=True)\n",
    "PF.dropna(inplace=True)\n",
    "PF = PF.astype(float)\n",
    "PFMax = PF.max()\n",
    "PF_N = PF / PFMax\n",
    "PF_N['Rate'] = PF_N[\"MP\"]*PF_N['G']*PF_N['FG']*PF_N['3P']*PF_N['2P']*PF_N['eFG%']*PF_N['FT']*PF_N['ORB']*PF_N['DRB']*PF_N['TRB']*PF_N['STL']*PF_N['BLK']/(PF_N['TOV']+0.0001)/(PF_N['PF']+0.0001)*PF_N['PTS']\n",
    "#print(C_N['Rate'].head(5))\n",
    "print(PF_N.sort_values(by=['Rate'], ascending=False).head(3))"
   ]
  },
  {
   "cell_type": "code",
   "execution_count": 195,
   "metadata": {},
   "outputs": [
    {
     "name": "stdout",
     "output_type": "stream",
     "text": [
      "                           G        MP        FG        2P   eFG%        FT  \\\n",
      "Player                                                                        \n",
      "LaMarcus Aldridge   0.914634  0.925414  1.000000  1.000000  0.520  0.737705   \n",
      "Karl-Anthony Towns  1.000000  0.983425  0.847826  0.715909  0.596  0.688525   \n",
      "Andre Drummond      0.951220  0.930939  0.652174  0.681818  0.529  0.508197   \n",
      "\n",
      "                         ORB       DRB      TRB       BLK   TOV     PF  \\\n",
      "Player                                                                   \n",
      "LaMarcus Aldridge   0.647059  0.477064  0.53125  0.521739  0.30  0.525   \n",
      "Karl-Anthony Towns  0.568627  0.862385  0.76875  0.608696  0.38  0.875   \n",
      "Andre Drummond      1.000000  1.000000  1.00000  0.695652  0.52  0.800   \n",
      "\n",
      "                         PTS      Rate  \n",
      "Player                                  \n",
      "LaMarcus Aldridge   0.916667  0.161602  \n",
      "Karl-Anthony Towns  0.845238  0.142827  \n",
      "Andre Drummond      0.595238  0.105335  \n"
     ]
    }
   ],
   "source": [
    "C= df.copy()[df['Pos']==\"C\"]\n",
    "C.drop(columns=[\"Rk\",\"Pos\", \"Age\", \"Tm\", \"GS\",\"FG%\", \"FGA\", \"3P\", \"3P%\", \"3PA\", \"2P%\", \"2PA\", \"FT%\", \"FTA\",\"AST\",\"STL\"], axis=1, inplace=True)\n",
    "C.set_index(\"Player\", inplace=True)\n",
    "C.dropna(inplace=True)\n",
    "C = C.astype(float)\n",
    "#print(C.head(3))\n",
    "CMax = C.max()\n",
    "C_N = C / CMax\n",
    "C_N['Rate'] = C_N['MP']*C_N['G']*C_N['FG']*C_N['2P']*C_N['eFG%']*C_N['FT']*C_N['ORB']*C_N['DRB']*C_N['TRB']*C_N['BLK']/(C_N['TOV']+0.0001)/(C_N['PF']+0.0001)*C_N['PTS']\n",
    "#print(C_N['Rate'].head(5))\n",
    "print(C_N.sort_values(by=['Rate'], ascending=False).head(3))"
   ]
  },
  {
   "cell_type": "code",
   "execution_count": 208,
   "metadata": {},
   "outputs": [
    {
     "name": "stdout",
     "output_type": "stream",
     "text": [
      "                        TRB  AST  STL  BLK   PTS\n",
      "Player                                          \n",
      "Damian Lillard          4.5  6.6  1.1  0.4  26.9\n",
      "Kemba Walker            3.1  5.6  1.1  0.3  22.1\n",
      "Stephen Curry           5.1  6.1  1.6  0.2  26.4\n",
      "James Harden            5.4  8.8  1.8  0.7  30.4\n",
      "Jimmy Butler            5.3  4.9  2.0  0.4  22.2\n",
      "Victor Oladipo          5.2  4.3  2.4  0.8  23.1\n",
      "Kevin Durant            6.8  5.4  0.7  1.8  26.4\n",
      "Paul George             5.7  3.3  2.0  0.5  21.9\n",
      "Otto Porter             6.4  2.0  1.5  0.5  14.7\n",
      "Anthony Davis          11.1  2.3  1.5  2.6  28.1\n",
      "Giannis Antetokounmpo  10.0  4.8  1.5  1.4  26.9\n",
      "LeBron James            8.6  9.1  1.4  0.9  27.5\n",
      "LaMarcus Aldridge       8.5  2.0  0.6  1.2  23.1\n",
      "Karl-Anthony Towns     12.3  2.4  0.8  1.4  21.3\n",
      "Andre Drummond         16.0  3.0  1.5  1.6  15.0\n"
     ]
    },
    {
     "name": "stderr",
     "output_type": "stream",
     "text": [
      "/usr/local/lib/python3.7/dist-packages/ipykernel_launcher.py:5: FutureWarning: \n",
      ".ix is deprecated. Please use\n",
      ".loc for label based indexing or\n",
      ".iloc for positional indexing\n",
      "\n",
      "See the documentation here:\n",
      "http://pandas.pydata.org/pandas-docs/stable/user_guide/indexing.html#ix-indexer-is-deprecated\n",
      "  \"\"\"\n"
     ]
    },
    {
     "data": {
      "text/plain": [
       "TRB    114.0\n",
       "AST     70.6\n",
       "STL     21.5\n",
       "BLK     14.7\n",
       "PTS    356.0\n",
       "dtype: float64"
      ]
     },
     "execution_count": 208,
     "metadata": {},
     "output_type": "execute_result"
    }
   ],
   "source": [
    "a = ['Damian Lillard', 'Kemba Walker', 'Stephen Curry', 'James Harden', 'Jimmy Butler', 'Victor Oladipo', \"Kevin Durant\", 'Paul George', 'Otto Porter', 'Anthony Davis', 'Giannis Antetokounmpo', 'LeBron James', 'LaMarcus Aldridge', 'Karl-Anthony Towns', 'Andre Drummond']\n",
    "html_str = str(table)\n",
    "df2 = pd.read_html(html_str)[0]\n",
    "df2.set_index(\"Player\", inplace=True)\n",
    "PlayersSelection=df2.ix[a].copy()\n",
    "#print(PlayersSelection)\n",
    "PlayersSelection.drop(columns=['G', 'FG', 'TOV', \"Rk\",\"Pos\",'2P', 'MP', \"Age\", 'eFG%', 'FT', 'ORB', 'DRB', 'PF',\"Tm\", \"GS\",\"FG%\", \"FGA\", \"3P\", \"3P%\", \"3PA\", \"2P%\", \"2PA\", \"FT%\", \"FTA\"], axis=1, inplace=True)\n",
    "print(PlayersSelection)\n",
    "PlayersSelection = PlayersSelection.astype(float)\n",
    "PlayersSelection.sum() "
   ]
  },
  {
   "cell_type": "code",
   "execution_count": null,
   "metadata": {},
   "outputs": [],
   "source": []
  }
 ],
 "metadata": {
  "kernelspec": {
   "display_name": "Python 3",
   "language": "python",
   "name": "python3"
  },
  "language_info": {
   "codemirror_mode": {
    "name": "ipython",
    "version": 3
   },
   "file_extension": ".py",
   "mimetype": "text/x-python",
   "name": "python",
   "nbconvert_exporter": "python",
   "pygments_lexer": "ipython3",
   "version": "3.7.3"
  }
 },
 "nbformat": 4,
 "nbformat_minor": 2
}
